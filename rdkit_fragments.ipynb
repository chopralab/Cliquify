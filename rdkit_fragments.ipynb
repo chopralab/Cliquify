{
 "cells": [
  {
   "cell_type": "code",
   "execution_count": 65,
   "metadata": {},
   "outputs": [],
   "source": [
    "from rdkit import Chem\n",
    "from rdkit.Chem import AllChem"
   ]
  },
  {
   "cell_type": "code",
   "execution_count": 66,
   "metadata": {},
   "outputs": [
    {
     "data": {
      "image/png": "[encoded data removed]",
      "text/plain": [
       "<rdkit.Chem.rdchem.Mol at 0x1e34fd472b0>"
      ]
     },
     "execution_count": 66,
     "metadata": {},
     "output_type": "execute_result"
    }
   ],
   "source": [
    "mol = Chem.MolFromSmiles(\"C1CCC2(CC1)CCCC1CCCCC21\")\n",
    "def mol_with_atom_index(mol):\n",
    "    for atom in mol.GetAtoms():\n",
    "        atom.SetAtomMapNum(atom.GetIdx())\n",
    "    return mol\n",
    "mol_with_atom_index(mol)"
   ]
  },
  {
   "cell_type": "code",
   "execution_count": 67,
   "metadata": {},
   "outputs": [
    {
     "name": "stdout",
     "output_type": "stream",
     "text": [
      "[CH2:1].[CH2:4][CH2:5]\n"
     ]
    },
    {
     "data": {
      "image/png": "[encoded data removed]",
      "text/plain": [
       "<rdkit.Chem.rdchem.Mol at 0x1e34fd47ee0>"
      ]
     },
     "execution_count": 67,
     "metadata": {},
     "output_type": "execute_result"
    }
   ],
   "source": [
    "atoms = [5, 4, 1]\n",
    "smiles = Chem.MolFragmentToSmiles(mol, atoms, kekuleSmiles=True)\n",
    "print(smiles)\n",
    "mol = Chem.MolFromSmiles(smiles)\n",
    "mol"
   ]
  },
  {
   "cell_type": "code",
   "execution_count": 68,
   "metadata": {},
   "outputs": [
    {
     "name": "stdout",
     "output_type": "stream",
     "text": [
      "[(0, 1), (0, 2), (1, 2)]\n",
      "[CH2:1]1[CH2:4][CH2:5]1\n"
     ]
    },
    {
     "data": {
      "image/png": "[encoded data removed]",
      "text/plain": [
       "<rdkit.Chem.rdchem.RWMol at 0x1e34fd4d530>"
      ]
     },
     "execution_count": 68,
     "metadata": {},
     "output_type": "execute_result"
    }
   ],
   "source": [
    "import itertools\n",
    "\n",
    "def copy_atom(atom):\n",
    "    new_atom = Chem.Atom(atom.GetSymbol())\n",
    "    new_atom.SetFormalCharge(atom.GetFormalCharge())\n",
    "    new_atom.SetAtomMapNum(atom.GetAtomMapNum())\n",
    "    return new_atom\n",
    "\n",
    "def copy_edit_mol(mol): \n",
    "\n",
    "    new_mol = Chem.RWMol(Chem.MolFromSmiles(''))\n",
    "    for atom in mol.GetAtoms():\n",
    "        new_atom = copy_atom(atom)\n",
    "        new_mol.AddAtom(new_atom)\n",
    "\n",
    "    subset_possible_bonds = list(itertools.combinations(mol.GetAtoms(), 2))\n",
    "    subset = [(bond[0].GetIdx(), bond[1].GetIdx()) for bond in subset_possible_bonds]\n",
    "    print(subset)\n",
    "    \n",
    "    for bond in subset:\n",
    "        a1, a2 = bond[0], bond[1]\n",
    "        bond_obj = mol.GetBondBetweenAtoms(a1, a2)\n",
    "        if bond_obj:\n",
    "            new_mol.AddBond(a1, a2, order=bond_obj.GetBondType())\n",
    "        else:\n",
    "            new_mol.AddBond(a1, a2, order=Chem.BondType.UNSPECIFIED)\n",
    "\n",
    "    return new_mol\n",
    "\n",
    "    \n",
    "\n",
    "copied_mol = copy_edit_mol(mol)\n",
    "copied_smiles = Chem.MolToSmiles(copied_mol)\n",
    "print(copied_smiles)\n",
    "copied_mol"
   ]
  },
  {
   "cell_type": "code",
   "execution_count": 72,
   "metadata": {},
   "outputs": [
    {
     "name": "stdout",
     "output_type": "stream",
     "text": [
      "<class 'str'>\n"
     ]
    }
   ],
   "source": [
    "copied_mol2 = Chem.AddHs(copied_mol)\n",
    "AllChem.EmbedMolecule(copied_mol2,randomSeed=0xf00d)\n",
    "print(Chem.MolToMolBlock(copied_mol2))"
   ]
  },
  {
   "cell_type": "code",
   "execution_count": 70,
   "metadata": {},
   "outputs": [
    {
     "name": "stdout",
     "output_type": "stream",
     "text": [
      "<class 'rdkit.Chem.rdchem.BondType'>\n"
     ]
    }
   ],
   "source": [
    "print(type(Chem.BondType.ZERO))\n"
   ]
  },
  {
   "cell_type": "code",
   "execution_count": 71,
   "metadata": {},
   "outputs": [
    {
     "data": {
      "text/plain": [
       "['AROMATIC',\n",
       " 'DATIVE',\n",
       " 'DATIVEL',\n",
       " 'DATIVEONE',\n",
       " 'DATIVER',\n",
       " 'DOUBLE',\n",
       " 'FIVEANDAHALF',\n",
       " 'FOURANDAHALF',\n",
       " 'HEXTUPLE',\n",
       " 'HYDROGEN',\n",
       " 'IONIC',\n",
       " 'ONEANDAHALF',\n",
       " 'OTHER',\n",
       " 'QUADRUPLE',\n",
       " 'QUINTUPLE',\n",
       " 'SINGLE',\n",
       " 'THREEANDAHALF',\n",
       " 'THREECENTER',\n",
       " 'TRIPLE',\n",
       " 'TWOANDAHALF',\n",
       " 'UNSPECIFIED',\n",
       " 'ZERO',\n",
       " '__abs__',\n",
       " '__add__',\n",
       " '__and__',\n",
       " '__bool__',\n",
       " '__ceil__',\n",
       " '__class__',\n",
       " '__delattr__',\n",
       " '__dir__',\n",
       " '__divmod__',\n",
       " '__doc__',\n",
       " '__eq__',\n",
       " '__float__',\n",
       " '__floor__',\n",
       " '__floordiv__',\n",
       " '__format__',\n",
       " '__ge__',\n",
       " '__getattribute__',\n",
       " '__getnewargs__',\n",
       " '__gt__',\n",
       " '__hash__',\n",
       " '__index__',\n",
       " '__init__',\n",
       " '__init_subclass__',\n",
       " '__int__',\n",
       " '__invert__',\n",
       " '__le__',\n",
       " '__lshift__',\n",
       " '__lt__',\n",
       " '__mod__',\n",
       " '__module__',\n",
       " '__mul__',\n",
       " '__ne__',\n",
       " '__neg__',\n",
       " '__new__',\n",
       " '__or__',\n",
       " '__pos__',\n",
       " '__pow__',\n",
       " '__radd__',\n",
       " '__rand__',\n",
       " '__rdivmod__',\n",
       " '__reduce__',\n",
       " '__reduce_ex__',\n",
       " '__repr__',\n",
       " '__rfloordiv__',\n",
       " '__rlshift__',\n",
       " '__rmod__',\n",
       " '__rmul__',\n",
       " '__ror__',\n",
       " '__round__',\n",
       " '__rpow__',\n",
       " '__rrshift__',\n",
       " '__rshift__',\n",
       " '__rsub__',\n",
       " '__rtruediv__',\n",
       " '__rxor__',\n",
       " '__setattr__',\n",
       " '__sizeof__',\n",
       " '__slots__',\n",
       " '__str__',\n",
       " '__sub__',\n",
       " '__subclasshook__',\n",
       " '__truediv__',\n",
       " '__trunc__',\n",
       " '__xor__',\n",
       " 'bit_length',\n",
       " 'conjugate',\n",
       " 'denominator',\n",
       " 'from_bytes',\n",
       " 'imag',\n",
       " 'name',\n",
       " 'names',\n",
       " 'numerator',\n",
       " 'real',\n",
       " 'to_bytes',\n",
       " 'values']"
      ]
     },
     "execution_count": 71,
     "metadata": {},
     "output_type": "execute_result"
    }
   ],
   "source": [
    "dir(Chem.BondType)"
   ]
  }
 ],
 "metadata": {
  "interpreter": {
   "hash": "fc2a3a06e77eb4e595060d268c7046c2c6deea9fb665813caf2576bb6bd69d5c"
  },
  "kernelspec": {
   "display_name": "Python 3.7.13 ('cliquify')",
   "language": "python",
   "name": "python3"
  },
  "language_info": {
   "codemirror_mode": {
    "name": "ipython",
    "version": 3
   },
   "file_extension": ".py",
   "mimetype": "text/x-python",
   "name": "python",
   "nbconvert_exporter": "python",
   "pygments_lexer": "ipython3",
   "version": "3.7.13"
  },
  "orig_nbformat": 4
 },
 "nbformat": 4,
 "nbformat_minor": 2
}
